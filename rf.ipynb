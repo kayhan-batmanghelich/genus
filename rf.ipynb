{
 "cells": [
  {
   "cell_type": "code",
   "execution_count": 1,
   "metadata": {
    "collapsed": true
   },
   "outputs": [],
   "source": [
    "import numpy as np\n",
    "import pandas as pd\n",
    "from sklearn.ensemble import RandomForestClassifier\n",
    "from sklearn.cross_validation import train_test_split"
   ]
  },
  {
   "cell_type": "code",
   "execution_count": 3,
   "metadata": {
    "collapsed": false
   },
   "outputs": [],
   "source": [
    "y = np.genfromtxt('affected_NAPair.txt')\n",
    "X = pd.read_csv('endo_NAdroped_cols_to_reduce.csv')\n",
    "\n",
    "X_vals = X.values\n",
    "noise = np.random.rand(763)\n",
    "noise = np.asarray([noise]).T\n",
    "X_vals = np.append(X_vals, noise, 1)\n",
    "X_vals = X_vals - X_vals.mean(0)\n",
    "X_vals = X_vals * 1./X_vals.std(0)\n",
    "\n",
    "X_train, X_test, y_train, y_test = train_test_split(\n",
    "    X_vals, y, test_size = .3, random_state = 1\n",
    ")\n",
    "\n",
    "# parameters from a grid search\n",
    "params = {\n",
    "    'criterion':'gini',\n",
    "    'max_depth':10,\n",
    "    'n_estimators':200\n",
    "    \n",
    "    }"
   ]
  },
  {
   "cell_type": "code",
   "execution_count": 10,
   "metadata": {
    "collapsed": false,
    "scrolled": true
   },
   "outputs": [],
   "source": [
    "rf_clf = RandomForestClassifier(\n",
    "    criterion = 'gini',\n",
    "    n_estimators = 200,\n",
    "    max_depth=10,\n",
    "    random_state=2\n",
    ")\n",
    "rf_clf.fit(X_train, y_train)\n",
    "prediction = rf_clf.predict(X_test)\n",
    "feature_importance = rf_clf.feature_importances_\n",
    "acc = sum(np.where(prediction == y_test,1,0)) / float(len(y_test))"
   ]
  },
  {
   "cell_type": "code",
   "execution_count": 11,
   "metadata": {
    "collapsed": false
   },
   "outputs": [
    {
     "data": {
      "text/plain": [
       "0.71615720524017468"
      ]
     },
     "execution_count": 11,
     "metadata": {},
     "output_type": "execute_result"
    }
   ],
   "source": [
    "acc"
   ]
  },
  {
   "cell_type": "code",
   "execution_count": 14,
   "metadata": {
    "collapsed": false
   },
   "outputs": [],
   "source": [
    "indices = np.where(feature_importance > feature_importance[-1])\n",
    "count = sum(np.where(feature_importance > feature_importance[-1], 1,0))"
   ]
  },
  {
   "cell_type": "code",
   "execution_count": 15,
   "metadata": {
    "collapsed": false
   },
   "outputs": [
    {
     "data": {
      "text/plain": [
       "170"
      ]
     },
     "execution_count": 15,
     "metadata": {},
     "output_type": "execute_result"
    }
   ],
   "source": [
    "count"
   ]
  },
  {
   "cell_type": "code",
   "execution_count": null,
   "metadata": {
    "collapsed": true
   },
   "outputs": [],
   "source": []
  }
 ],
 "metadata": {
  "kernelspec": {
   "display_name": "Python 2",
   "language": "python",
   "name": "python2"
  },
  "language_info": {
   "codemirror_mode": {
    "name": "ipython",
    "version": 2
   },
   "file_extension": ".py",
   "mimetype": "text/x-python",
   "name": "python",
   "nbconvert_exporter": "python",
   "pygments_lexer": "ipython2",
   "version": "2.7.11"
  }
 },
 "nbformat": 4,
 "nbformat_minor": 0
}
